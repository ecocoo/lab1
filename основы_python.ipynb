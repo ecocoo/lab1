{
  "cells": [
    {
      "cell_type": "markdown",
      "metadata": {
        "id": "M-DGa20PaHnu"
      },
      "source": [
        "#Задача 1\n",
        "Написать функцию на вход которой подается строка, состоящая из латинских букв.\n",
        "Функция должна вернуть количество гласных букв (a, e, i, o, u) в этой строке. Написать тесты для кода"
      ]
    },
    {
      "cell_type": "code",
      "execution_count": 20,
      "metadata": {
        "id": "XvX8X_JJ6PCb"
      },
      "outputs": [
        {
          "name": "stdout",
          "output_type": "stream",
          "text": [
            "2\n",
            "4\n",
            "1\n",
            "0\n"
          ]
        }
      ],
      "source": [
        "def find_vowels(line):\n",
        "    cnt = 0\n",
        "    required_letters = ['a', 'e', 'i', 'o', 'u']\n",
        "    for i in str(line).lower():\n",
        "        if i in required_letters:\n",
        "            cnt += 1\n",
        "    print(cnt)\n",
        "line_1 = 'A B C D T F I'\n",
        "line_2 = 'a b c d e i j k i'\n",
        "line_3 = 'abcdgh'\n",
        "line_4 = 'bcdgh'\n",
        "find_vowels(line_1)\n",
        "find_vowels(line_2)\n",
        "find_vowels(line_3)\n",
        "find_vowels(line_4)"
      ]
    },
    {
      "cell_type": "markdown",
      "metadata": {
        "id": "t2ClV_Y0bbr6"
      },
      "source": [
        "# Задача 2\n",
        "Написать функцию на вход, которой подается строка. Функция должна вернуть true, если\n",
        "каждый символ в строке встречается только 1 раз, иначе должна вернуть false. Написать тесты для кода"
      ]
    },
    {
      "cell_type": "code",
      "execution_count": 19,
      "metadata": {
        "id": "FppbECao6VIz"
      },
      "outputs": [
        {
          "name": "stdout",
          "output_type": "stream",
          "text": [
            "true\n",
            "false\n",
            "false\n"
          ]
        }
      ],
      "source": [
        "def find_unique_string(line):\n",
        "    flag = True\n",
        "    for i in range(len(line)):\n",
        "        for j in range(i + 1,len(line)):\n",
        "            if line[i].lower() == line[j].lower():\n",
        "                flag = False\n",
        "    if flag == False:\n",
        "        print('false')\n",
        "    else:\n",
        "        print('true')\n",
        "line_1 = 'abcdef'\n",
        "line_2 = 'aA'\n",
        "line_3 = 'abcdefa'\n",
        "find_unique_string(line_1)\n",
        "find_unique_string(line_2)\n",
        "find_unique_string(line_3)"
      ]
    },
    {
      "cell_type": "markdown",
      "metadata": {
        "id": "udRiIK1cdt6E"
      },
      "source": [
        "# Задача 3\n",
        "Написать функцию, которая принимает положительное число и возвращает количество\n",
        "бит равных 1 в этом числе. Написать тесты для кода"
      ]
    },
    {
      "cell_type": "code",
      "execution_count": 18,
      "metadata": {
        "id": "6tkfDJRz6dp_"
      },
      "outputs": [
        {
          "name": "stdout",
          "output_type": "stream",
          "text": [
            "1100\n",
            "11000000111001\n",
            "11110000011111011\n"
          ]
        }
      ],
      "source": [
        "def find_bit_number(number):\n",
        "    print(bin(number)[2:])\n",
        "number_1 = 12\n",
        "number_2 = 12345\n",
        "number_3 = 123131\n",
        "find_bit_number(number_1)\n",
        "find_bit_number(number_2)\n",
        "find_bit_number(number_3)"
      ]
    },
    {
      "cell_type": "markdown",
      "metadata": {
        "id": "26dDUz-Ae17N"
      },
      "source": [
        "# Задача 4\n",
        "Написать функцию, которая принимает положительное число. Функция должна вернуть то,\n",
        "сколько раз необходимо перемножать цифры числа или результат перемножения, чтобы\n",
        "получилось число состоящее из одной цифры.\n",
        "Например, для входного числа:\n",
        "· 39 функция должна вернуть 3, так как 3*9=27 => 2*7=14 => 1*4=4\n",
        "· 4 функция должна вернуть 0, так как число уже состоит из одной цифры\n",
        "· 999 функция должна вернуть 4, так как 9*9*9=729 => 7*2*9=126 => 1*2*6=12 =>\n",
        "1*2=2. Написать тесты для кода"
      ]
    },
    {
      "cell_type": "code",
      "execution_count": 17,
      "metadata": {
        "id": "BH1A_Mgi6i4G"
      },
      "outputs": [
        {
          "name": "stdout",
          "output_type": "stream",
          "text": [
            "3\n",
            "4\n"
          ]
        }
      ],
      "source": [
        "def magic(n):\n",
        "    cnt = 0\n",
        "    a = 1\n",
        "    while len(str(n)) != 1:\n",
        "        for i in str(n):\n",
        "            a *= int(i)\n",
        "        n = str(a)\n",
        "        a = 1\n",
        "        cnt += 1\n",
        "    print(cnt)\n",
        "n_1 = 39\n",
        "n_2 = 999\n",
        "magic(n_1)\n",
        "magic(n_2)"
      ]
    },
    {
      "cell_type": "markdown",
      "metadata": {
        "id": "0nS-kIa8g8vd"
      },
      "source": [
        "# Задача 5\n",
        "Написать функцию, которая принимает два целочисленных вектора одинаковой длины и\n",
        "возвращает среднеквадратическое отклонение двух векторов. Написать тесты для кода"
      ]
    },
    {
      "cell_type": "code",
      "execution_count": 16,
      "metadata": {
        "id": "8iphx4LM6xbx"
      },
      "outputs": [
        {
          "name": "stdout",
          "output_type": "stream",
          "text": [
            "6.0\n",
            "11.474609652039003\n"
          ]
        }
      ],
      "source": [
        "from math import sqrt\n",
        "def mse(pred, true):\n",
        "    total = []\n",
        "    n = len(pred)\n",
        "    for i in range(n):\n",
        "        total.append((pred[i] - true[i])**2)\n",
        "    print(sqrt(sum(total) / n))\n",
        "pred_1 = [1, 2, 3, 4, 5, 6]\n",
        "true_1 = [7, 8, 9, 10, 11, 12]\n",
        "pred_2 = [1, 2, 3]\n",
        "true_2 = [12,9,18]\n",
        "mse(pred_1,true_1)\n",
        "mse(pred_2,true_2)"
      ]
    },
    {
      "cell_type": "markdown",
      "metadata": {
        "id": "vpIPKL439zkw"
      },
      "source": [
        "# Задача 6\n",
        "Написать функцию, принимающая целое положительное число. Функция должна вернуть\n",
        "строку вида “(n1**p1)(n2**p2)…(nk**pk)” представляющая разложение числа на простые\n",
        "множители (если pi == 1, то выводить только ni).\n",
        "Например, для числа 86240 функция должна вернуть “(2**5)(5)(7**2)(11)”. Написать тесты для кода"
      ]
    },
    {
      "cell_type": "code",
      "execution_count": 23,
      "metadata": {
        "id": "pFebmcZk94Jw"
      },
      "outputs": [
        {
          "name": "stdout",
          "output_type": "stream",
          "text": [
            "(2**5)(5)(7**2)(11)"
          ]
        }
      ],
      "source": [
        "def prime(number):\n",
        "    total = []\n",
        "    divider = 2\n",
        "    while number > 1:\n",
        "        cnt = 0\n",
        "        if number % divider == 0:\n",
        "            for j in range(1, divider + 1):\n",
        "                if divider % j == 0:\n",
        "                    cnt += 1\n",
        "            if cnt == 2:\n",
        "                total.append(divider)\n",
        "                number = number // divider\n",
        "        else:\n",
        "            divider += 1\n",
        "    for i in (sorted(set(total))):\n",
        "        if total.count(i) > 1:\n",
        "            cnt = total.count(i)\n",
        "            print (f'({i}**{cnt})',end = '')\n",
        "        else:\n",
        "            print (f'({i})',end = '')\n",
        "\n",
        "number_1 = 86240\n",
        "prime(number_1)"
      ]
    },
    {
      "cell_type": "markdown",
      "metadata": {
        "id": "ps2s0BudX7A2"
      },
      "source": [
        "# Задача 7\n",
        "Написать функцию, принимающая целое число n, задающее количество кубиков. Функция\n",
        "должна определить, можно ли из данного кол-ва кубиков построить пирамиду, то есть\n",
        "можно ли представить число n как 1^2+2^2+3^2+…+k^2. Если можно, то функция должна\n",
        "вернуть k, иначе строку “It is impossible”. Написать тесты для кода"
      ]
    },
    {
      "cell_type": "code",
      "execution_count": 25,
      "metadata": {
        "id": "3YPjEXxhX_YT"
      },
      "outputs": [
        {
          "name": "stdout",
          "output_type": "stream",
          "text": [
            "2\n",
            "It is impossible\n",
            "4\n"
          ]
        }
      ],
      "source": [
        "def pyramid(number):\n",
        "    total = 0\n",
        "    row = 0\n",
        "    while  total < number:\n",
        "        row += 1 \n",
        "        total += row ** 2\n",
        "    if number == total:\n",
        "        print(row)\n",
        "    else:\n",
        "        print('It is impossible')\n",
        "number_1 = 5\n",
        "number_2 = 3 \n",
        "number_3 = 30\n",
        "pyramid(number_1)\n",
        "pyramid(number_2)\n",
        "pyramid(number_3)"
      ]
    },
    {
      "cell_type": "markdown",
      "metadata": {
        "id": "KeKgmIdAQMEJ"
      },
      "source": [
        "# Задача 8\n",
        "Функция принимает на вход положительное число и определяет является ли оно сбалансированным, т.е. сумма цифр до средних равна сумме цифр после. Средними в случае нечетного числа цифр считать одну цифру, в случае четного - две средних. Написать тесты для кода"
      ]
    },
    {
      "cell_type": "code",
      "execution_count": 31,
      "metadata": {
        "id": "gMAAqtqlQrZt"
      },
      "outputs": [
        {
          "name": "stdout",
          "output_type": "stream",
          "text": [
            "True\n",
            "True\n",
            "False\n"
          ]
        }
      ],
      "source": [
        "def balanced_number(n):\n",
        "    a = 0\n",
        "    b = 0\n",
        "    n = str(n)\n",
        "    for i in str(n):\n",
        "        if len(n) % 2 == 0:\n",
        "            mid = len(n) // 2\n",
        "            a = n[:mid - 1]\n",
        "            b = n[mid + 1:]\n",
        "        else:\n",
        "            mid = len(n) // 2\n",
        "            a = n[:mid]\n",
        "            b = n[mid + 1:]\n",
        "    a = sum([int(i) for i in a])\n",
        "    b = sum([int(i) for i in b])\n",
        "    if a == b:\n",
        "        print(True)\n",
        "    else:\n",
        "        print(False)\n",
        "number_1 = 12321\n",
        "number_2 = 12345321\n",
        "number_3 = 1235785\n",
        "balanced_number(number_1)\n",
        "balanced_number(number_2)\n",
        "balanced_number(number_3)"
      ]
    }
  ],
  "metadata": {
    "colab": {
      "provenance": []
    },
    "kernelspec": {
      "display_name": "Python 3",
      "name": "python3"
    },
    "language_info": {
      "codemirror_mode": {
        "name": "ipython",
        "version": 3
      },
      "file_extension": ".py",
      "mimetype": "text/x-python",
      "name": "python",
      "nbconvert_exporter": "python",
      "pygments_lexer": "ipython3",
      "version": "3.12.0"
    }
  },
  "nbformat": 4,
  "nbformat_minor": 0
}
